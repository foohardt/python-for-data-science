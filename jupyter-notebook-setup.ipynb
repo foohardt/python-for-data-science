{
 "cells": [
  {
   "cell_type": "markdown",
   "id": "89f9122a",
   "metadata": {},
   "source": [
    "# 4. Python for Data Science"
   ]
  },
  {
   "cell_type": "code",
   "execution_count": 1,
   "id": "00e2bc90",
   "metadata": {},
   "outputs": [],
   "source": [
    "print_me = 'This is a simple task from data science program.'"
   ]
  },
  {
   "cell_type": "code",
   "execution_count": 2,
   "id": "cbd68613",
   "metadata": {},
   "outputs": [
    {
     "name": "stdout",
     "output_type": "stream",
     "text": [
      "This is a simple task from data science program.\n"
     ]
    }
   ],
   "source": [
    "print(print_me)"
   ]
  },
  {
   "cell_type": "code",
   "execution_count": null,
   "id": "f5e2bae3",
   "metadata": {},
   "outputs": [],
   "source": []
  }
 ],
 "metadata": {
  "kernelspec": {
   "display_name": "Python 3 (ipykernel)",
   "language": "python",
   "name": "python3"
  },
  "language_info": {
   "codemirror_mode": {
    "name": "ipython",
    "version": 3
   },
   "file_extension": ".py",
   "mimetype": "text/x-python",
   "name": "python",
   "nbconvert_exporter": "python",
   "pygments_lexer": "ipython3",
   "version": "3.8.10"
  }
 },
 "nbformat": 4,
 "nbformat_minor": 5
}
